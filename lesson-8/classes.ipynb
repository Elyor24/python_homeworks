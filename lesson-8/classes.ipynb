{
 "cells": [
  {
   "cell_type": "markdown",
   "metadata": {},
   "source": [
    "# Classes\n",
    "\n",
    "- Public and private methods / attributes\n",
    "- Inheritance\n",
    "- Property\n",
    "- classmethod, staticmethod"
   ]
  },
  {
   "cell_type": "markdown",
   "metadata": {},
   "source": [
    "### Public and Private Attributes"
   ]
  },
  {
   "cell_type": "code",
   "execution_count": null,
   "metadata": {},
   "outputs": [],
   "source": [
    "# example 1\n",
    "class Person:\n",
    "    def __init__(self, name, age, salary):\n",
    "        self.name = name\n",
    "        self.age = age\n",
    "        self.__salary = salary\n",
    "\n",
    "person = Person('John Doe', 30, 5000)"
   ]
  },
  {
   "cell_type": "code",
   "execution_count": null,
   "metadata": {},
   "outputs": [],
   "source": [
    "print(person.name)"
   ]
  },
  {
   "cell_type": "code",
   "execution_count": null,
   "metadata": {},
   "outputs": [],
   "source": [
    "print(person.__salary)"
   ]
  },
  {
   "cell_type": "code",
   "execution_count": null,
   "metadata": {},
   "outputs": [],
   "source": [
    "# example 2\n",
    "class BankAccount:\n",
    "    def __init__(self, account_number, balance):\n",
    "        self.account_number = account_number\n",
    "        self.__balance = balance\n",
    "\n",
    "    def deposit(self, amount):\n",
    "        if amount > 0:\n",
    "            self.__balance += amount\n",
    "        return self.__balance\n",
    "\n",
    "    def __calculate_interest(self):\n",
    "        return self.__balance * 0.02\n",
    "\n",
    "    def show_balance_with_interest(self):\n",
    "        return self.__balance + self.__calculate_interest()\n",
    "\n",
    "account = BankAccount(\"12345678\", 1000)\n",
    "print(account.deposit(500))\n",
    "# print(account.__balance)  # Raises AttributeError\n",
    "print(account.show_balance_with_interest())"
   ]
  },
  {
   "cell_type": "markdown",
   "metadata": {},
   "source": [
    "### Inheritance"
   ]
  },
  {
   "cell_type": "code",
   "execution_count": null,
   "metadata": {},
   "outputs": [],
   "source": [
    "class EmptyClass:\n",
    "    pass\n",
    "\n",
    "dir(EmptyClass)"
   ]
  },
  {
   "cell_type": "code",
   "execution_count": null,
   "metadata": {},
   "outputs": [],
   "source": [
    "EmptyClass.__mro__"
   ]
  },
  {
   "cell_type": "code",
   "execution_count": null,
   "metadata": {},
   "outputs": [],
   "source": [
    "class Person:\n",
    "    def __init__(self, name, age):\n",
    "        self.name = name\n",
    "        self.age = age\n",
    "\n",
    "    def eat(self):\n",
    "        print('eating meal')\n",
    "\n",
    "    def walk(self):\n",
    "        print('walking')\n",
    "\n",
    "    def __str__(self):\n",
    "        return f\"Person(name={self.name}, age={self.age})\"\n",
    "    \n",
    "p1 = Person('john', 40)\n",
    "print(p1)\n",
    "p1.eat()\n",
    "p1.walk()"
   ]
  },
  {
   "cell_type": "code",
   "execution_count": null,
   "metadata": {},
   "outputs": [],
   "source": [
    "class Teacher(Person):\n",
    "    def __init__(self, name, age, subject):\n",
    "        super().__init__(name, age)\n",
    "        self.subject = subject\n",
    "\n",
    "    def teach(self):\n",
    "        print('teaching')\n",
    "\n",
    "t1 = Teacher(\"Adam\", 45, 'Math')\n",
    "print(t1)\n",
    "t1.eat()\n",
    "t1.walk()\n",
    "t1.teach()"
   ]
  },
  {
   "cell_type": "markdown",
   "metadata": {},
   "source": [
    "### Extending Built-in types"
   ]
  },
  {
   "cell_type": "code",
   "execution_count": 70,
   "metadata": {},
   "outputs": [],
   "source": [
    "# example 1\n",
    "class NumberList(list):\n",
    "    def __init__(self, *args):\n",
    "        for item in args:\n",
    "            if not isinstance(item, (int, float)):\n",
    "                raise ValueError(item)\n",
    "        super().__init__(args)\n",
    "\n",
    "    \n",
    "    def sum(self):\n",
    "        return sum(item for item in self)\n",
    "    \n",
    "    def append(self, item):\n",
    "        if isinstance(item, (int, float)):\n",
    "            super().append(item)\n",
    "        else:\n",
    "            raise ValueError(item)\n",
    "    \n",
    "    def __str__(self):\n",
    "        return f\"NumberList({super().__str__()})\""
   ]
  },
  {
   "cell_type": "code",
   "execution_count": null,
   "metadata": {},
   "outputs": [],
   "source": [
    "numbers = NumberList(1, 2, 4, 5)\n",
    "print(numbers)\n",
    "numbers.append(6)\n",
    "print(numbers)"
   ]
  },
  {
   "cell_type": "code",
   "execution_count": null,
   "metadata": {},
   "outputs": [],
   "source": [
    "numbers.sum()"
   ]
  },
  {
   "cell_type": "code",
   "execution_count": null,
   "metadata": {},
   "outputs": [],
   "source": [
    "NumberList(1, 2, 'a')"
   ]
  },
  {
   "cell_type": "code",
   "execution_count": null,
   "metadata": {},
   "outputs": [],
   "source": [
    "numbers.append('a')"
   ]
  },
  {
   "cell_type": "code",
   "execution_count": null,
   "metadata": {},
   "outputs": [],
   "source": [
    "dict(a=1)"
   ]
  },
  {
   "cell_type": "code",
   "execution_count": null,
   "metadata": {},
   "outputs": [],
   "source": [
    "# example 2\n",
    "\n",
    "class CustomDict(dict):\n",
    "\n",
    "    def __init__(self, *args, **kwargs):\n",
    "        super().__init__(*args, **kwargs)\n",
    "\n",
    "    def invert(self):\n",
    "        return CustomDict({v: k for k, v in self.items()})\n",
    "    \n",
    "my_dict = CustomDict(a=1, b=2, c=3)\n",
    "print(my_dict)"
   ]
  },
  {
   "cell_type": "code",
   "execution_count": null,
   "metadata": {},
   "outputs": [],
   "source": [
    "my_dict.invert()"
   ]
  },
  {
   "cell_type": "markdown",
   "metadata": {},
   "source": [
    "### Property"
   ]
  },
  {
   "cell_type": "markdown",
   "metadata": {},
   "source": [
    "#### Add validation to Person"
   ]
  },
  {
   "cell_type": "code",
   "execution_count": null,
   "metadata": {},
   "outputs": [],
   "source": [
    "class Person:\n",
    "    def __init__(self, name, age):\n",
    "        if not isinstance(name, str) or name == '':\n",
    "            raise ValueError(f\"name can not be {name!r}\")\n",
    "        self.name = name\n",
    "        if not isinstance(age, int) or age < 0:\n",
    "            raise ValueError(f\"age can not be {age!r}\")\n",
    "        self.age = age\n",
    "\n",
    "    def __str__(self):\n",
    "        return f\"Person(name={self.name!r}, age={self.age!r})\"\n",
    "\n",
    "p1 = Person(name='John', age=2)\n",
    "p1.name = [1, 2, 3]\n",
    "p1.age = -4\n",
    "print(p1)\n"
   ]
  },
  {
   "cell_type": "markdown",
   "metadata": {},
   "source": [
    "#### Getter and Setter Approach"
   ]
  },
  {
   "cell_type": "code",
   "execution_count": null,
   "metadata": {},
   "outputs": [],
   "source": [
    "class Person:\n",
    "    def __init__(self, name, age):\n",
    "        self.set_name(name)\n",
    "        self.set_age(age)\n",
    "\n",
    "    def set_name(self, name):\n",
    "        if not isinstance(name, str) or name == '':\n",
    "            raise ValueError(f\"name can not be {name!r}\")\n",
    "        self.__name = name\n",
    "\n",
    "    \n",
    "    def get_name(self):\n",
    "        return self.__name\n",
    "    \n",
    "    def set_age(self, age):\n",
    "        if not isinstance(age, int) or age < 0:\n",
    "            raise ValueError(f\"age can not be {age!r}\")\n",
    "        self.__age = age\n",
    "\n",
    "    def get_age(self):\n",
    "        return self.__age\n",
    "    \n",
    "    def __str__(self):\n",
    "        return f\"Person(name={self.name!r}, age={self.age!r})\"\n",
    "    \n",
    "\n",
    "p1 = Person(name='John', age=2)\n",
    "p1.set_age(-5)\n",
    "print(p1)"
   ]
  },
  {
   "cell_type": "markdown",
   "metadata": {},
   "source": [
    "### Pythonic approach"
   ]
  },
  {
   "cell_type": "code",
   "execution_count": null,
   "metadata": {},
   "outputs": [],
   "source": [
    "class Person:\n",
    "    def __init__(self, name, age):\n",
    "        self.name = name\n",
    "        self.age = age\n",
    "\n",
    "    @property\n",
    "    def name(self):\n",
    "        return self.__name\n",
    "    \n",
    "    @name.setter\n",
    "    def name(self, value):\n",
    "        if not isinstance(value, str) or value == '':\n",
    "            raise ValueError(f\"name can not be {value!r}\")\n",
    "        self.__name = value\n",
    "\n",
    "\n",
    "    @property\n",
    "    def age(self):\n",
    "        return self.__age\n",
    "\n",
    "\n",
    "    @age.setter\n",
    "    def age(self, age):\n",
    "        if not isinstance(age, int) or age < 0:\n",
    "            raise ValueError(f\"age can not be {age!r}\")\n",
    "        self.__age = age\n",
    "    \n",
    "    def __str__(self):\n",
    "        return f\"Person(name={self.name!r}, age={self.age!r})\"\n",
    "\n",
    "\n",
    "p1 = Person(name='John', age=2)\n",
    "print(p1)"
   ]
  },
  {
   "cell_type": "markdown",
   "metadata": {},
   "source": [
    "<p style=\"color: darkcyan;\">\n",
    "Bear in mind that even with the <b>name</b> property, the previous code is not 100% safe. People can still access the <b>__name</b> attribute directly and set it to an empty string if they wanted to. But if they access a variable we've explicitly marked with an underscore to suggest it is private, they're the ones that have to deal with consequences, not us.\n",
    "</p>"
   ]
  },
  {
   "cell_type": "code",
   "execution_count": 115,
   "metadata": {},
   "outputs": [],
   "source": [
    "# property example 1\n",
    "\n",
    "from urllib.request import urlopen\n",
    "\n",
    "class WebPage:\n",
    "    def __init__(self, url):\n",
    "        self.url = url\n",
    "        self.__content = None\n",
    "\n",
    "    @property\n",
    "    def content(self):\n",
    "        if not self.__content:\n",
    "            print('Retrieving New Page...')\n",
    "            self.__content = urlopen(self.url).read()\n",
    "        return self.__content"
   ]
  },
  {
   "cell_type": "code",
   "execution_count": null,
   "metadata": {},
   "outputs": [],
   "source": [
    "webpage = WebPage('https://example.com/')\n",
    "content1 = webpage.content"
   ]
  },
  {
   "cell_type": "code",
   "execution_count": 118,
   "metadata": {},
   "outputs": [],
   "source": [
    "content2 = webpage.content"
   ]
  },
  {
   "cell_type": "code",
   "execution_count": 121,
   "metadata": {},
   "outputs": [
    {
     "data": {
      "text/plain": [
       "2.5"
      ]
     },
     "execution_count": 121,
     "metadata": {},
     "output_type": "execute_result"
    }
   ],
   "source": [
    "# property example 2\n",
    "\n",
    "class AverageList(list):\n",
    "    @property\n",
    "    def average(self):\n",
    "        return sum(self) / len(self)\n",
    "    \n",
    "a = AverageList([1, 2, 3, 4])\n",
    "a.average"
   ]
  },
  {
   "cell_type": "markdown",
   "metadata": {},
   "source": [
    "### classmethod, staticmethod"
   ]
  },
  {
   "cell_type": "code",
   "execution_count": null,
   "metadata": {},
   "outputs": [],
   "source": [
    "# staticmethod\n",
    "class BankAccount:\n",
    "    def __init__(self, account_number, balance=0):\n",
    "        if not self.validate_account_number(account_number):\n",
    "            raise ValueError(\"Invalid account number\")\n",
    "        self.account_number = account_number\n",
    "        self.balance = balance\n",
    "    \n",
    "    def deposit(self, amount):\n",
    "        if amount <= 0:\n",
    "            raise ValueError(\"Deposit amount must be positive\")\n",
    "        self.balance += amount\n",
    "        print(f\"${amount} deposited. New balance: ${self.balance}\")\n",
    "    \n",
    "    def withdraw(self, amount):\n",
    "        if amount > self.balance:\n",
    "            raise ValueError(\"Insufficient funds\")\n",
    "        self.balance -= amount\n",
    "        print(f\"${amount} withdrawn. Remaining balance: ${self.balance}\")\n",
    "    \n",
    "    @staticmethod\n",
    "    def validate_account_number(account_number):\n",
    "        \"\"\"Validates that an account number is exactly 10 digits.\"\"\"\n",
    "        return isinstance(account_number, str) and account_number.isdigit() and len(account_number) == 10\n",
    "\n",
    "account = BankAccount(\"1234567890\", 500)\n",
    "\n",
    "print(BankAccount.validate_account_number(\"1234567890\"))\n",
    "print(BankAccount.validate_account_number(\"12345\"))\n"
   ]
  },
  {
   "cell_type": "code",
   "execution_count": null,
   "metadata": {},
   "outputs": [],
   "source": [
    "# classmethod\n",
    "\n",
    "class Vector:\n",
    "    def __init__(self, x: float, y: float):\n",
    "        self.x = x\n",
    "        self.y = y\n",
    "\n",
    "    def __str__(self):\n",
    "        return f\"Vector(x={self.x}, y={self.y})\"\n",
    "    \n",
    "    @classmethod\n",
    "    def from_tuple(cls, coords: tuple[float, float]):\n",
    "        x, y = coords\n",
    "        return cls(x, y)\n",
    "    \n",
    "v1 = Vector(x=1, y=2)\n",
    "print(v1)"
   ]
  },
  {
   "cell_type": "code",
   "execution_count": null,
   "metadata": {},
   "outputs": [],
   "source": [
    "v2 = Vector.from_tuple(coords=(3, 4))\n",
    "print(v2)"
   ]
  }
 ],
 "metadata": {
  "kernelspec": {
   "display_name": "Python 3",
   "language": "python",
   "name": "python3"
  },
  "language_info": {
   "codemirror_mode": {
    "name": "ipython",
    "version": 3
   },
   "file_extension": ".py",
   "mimetype": "text/x-python",
   "name": "python",
   "nbconvert_exporter": "python",
   "pygments_lexer": "ipython3",
   "version": "3.10.11"
  }
 },
 "nbformat": 4,
 "nbformat_minor": 2
}
