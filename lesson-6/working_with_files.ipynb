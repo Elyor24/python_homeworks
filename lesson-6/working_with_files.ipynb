{
 "cells": [
  {
   "cell_type": "markdown",
   "metadata": {},
   "source": [
    "### Working with Files\n",
    "    - Open files\n",
    "    - Read files\n",
    "    - Write files\n",
    "    - Append to files"
   ]
  },
  {
   "cell_type": "markdown",
   "metadata": {},
   "source": [
    "#### The open() Function\n",
    "\n",
    "|Character | Meaning|\n",
    "| --- | --- |\n",
    "|‘r’ | open file for reading (default)|\n",
    "|‘w’ | open for writing. If file exists, replace its contents|\n",
    "|‘a’ | open for writing. If file exists, appends to end|\n",
    "|‘b’ | binary mode|\n",
    "|‘t’ | text mode (default)|\n",
    "|’+’ | reading and writing|"
   ]
  },
  {
   "cell_type": "markdown",
   "metadata": {},
   "source": [
    "**reading**\n",
    "```python\n",
    "file_handler = open('example.txt')\n",
    "# do something with the file\n",
    "file_handler.close()\n",
    "```"
   ]
  },
  {
   "cell_type": "markdown",
   "metadata": {},
   "source": [
    "**using `finally`**\n",
    "```python\n",
    "try:\n",
    "    file_handler = open('example.txt')\n",
    "except:\n",
    "    # ignore the error, print a warning, or log the exception\n",
    "    pass\n",
    "finally:\n",
    "    file_handler.close()\n",
    "```"
   ]
  },
  {
   "cell_type": "markdown",
   "metadata": {},
   "source": [
    "**using context manager**\n",
    "```python\n",
    "with open('example.txt') as file_handler:\n",
    "    # do something with the handler here\n",
    "    data = file_handler.read()\n",
    "```"
   ]
  },
  {
   "cell_type": "markdown",
   "metadata": {},
   "source": [
    "**reading examples:**"
   ]
  },
  {
   "cell_type": "code",
   "execution_count": null,
   "metadata": {},
   "outputs": [],
   "source": [
    "with open('example.txt') as file_handler:\n",
    "    lines = file_handler.readlines()\n",
    "    for line in lines:\n",
    "        print(line)"
   ]
  },
  {
   "cell_type": "code",
   "execution_count": null,
   "metadata": {},
   "outputs": [],
   "source": [
    "with open('example.txt') as file_handler:\n",
    "    file_contents = file_handler.read()"
   ]
  },
  {
   "cell_type": "code",
   "execution_count": null,
   "metadata": {},
   "outputs": [],
   "source": [
    "while True:\n",
    "    with open('example.txt') as file_handler:\n",
    "        data = file_handler.read(1024)\n",
    "        if not data:\n",
    "            break\n",
    "        print(data)"
   ]
  },
  {
   "cell_type": "code",
   "execution_count": null,
   "metadata": {},
   "outputs": [],
   "source": [
    "with open('example.pdf', 'rb') as file_handler:\n",
    "    file_contents = file_handler.read()"
   ]
  },
  {
   "cell_type": "markdown",
   "metadata": {},
   "source": [
    "**writing examples:**"
   ]
  },
  {
   "cell_type": "code",
   "execution_count": null,
   "metadata": {},
   "outputs": [],
   "source": [
    "with open('example.txt', 'w') as file_handler:\n",
    "    file_handler.write('This is a test')"
   ]
  },
  {
   "cell_type": "code",
   "execution_count": null,
   "metadata": {},
   "outputs": [],
   "source": [
    "with open('example.txt') as file_handler:\n",
    "    print(file_handler.read())"
   ]
  },
  {
   "cell_type": "markdown",
   "metadata": {},
   "source": [
    "**appending examples:**"
   ]
  },
  {
   "cell_type": "code",
   "execution_count": null,
   "metadata": {},
   "outputs": [],
   "source": [
    "with open('example.txt', 'a') as file_handler:\n",
    "    file_handler.write('Here is some more text')"
   ]
  },
  {
   "cell_type": "markdown",
   "metadata": {},
   "source": [
    "**catching file exceptions:**"
   ]
  },
  {
   "cell_type": "code",
   "execution_count": null,
   "metadata": {},
   "outputs": [],
   "source": [
    "try:\n",
    "    with open('example.txt') as file_handler:\n",
    "        for line in file_handler:\n",
    "            print(line)\n",
    "except OSError:\n",
    "    print('An error has occurred')"
   ]
  },
  {
   "cell_type": "markdown",
   "metadata": {},
   "source": [
    "\n",
    "#### Seeking Within a File\n",
    "\n",
    "The `seek()` method accepts two arguments:\n",
    "- offset - A number of bytes from whence\n",
    "- whence - The reference point\n",
    "\n",
    "You can set `whence` to one of these three values:\n",
    "- 0 - The beginning of the file (default)\n",
    "- 1 - The current file position\n",
    "- 2 - The end of the file\n",
    "\n",
    "> Note: We cannot set the point of reference 1 or 2 when a file is opened in text mode, but we can specify 1 or 2 when the offset is set to 0."
   ]
  },
  {
   "cell_type": "code",
   "execution_count": null,
   "metadata": {},
   "outputs": [],
   "source": [
    "with open('sample.txt', 'rb') as file:\n",
    "    # Setting cursor at the 100th pos\n",
    "    file.seek(100)\n",
    "    print(f'File cursor position before: {file.tell()}')\n",
    "    # Moving back 15 chars from the current position\n",
    "    file.seek(-15, 1)\n",
    "    # Using tell() function\n",
    "    pos = file.tell()\n",
    "    # Printing the position of the cursor\n",
    "    print(f'File cursor position now: {pos}')\n",
    "    # Printing the content\n",
    "    data = file.read()\n",
    "    print(data)"
   ]
  },
  {
   "cell_type": "code",
   "execution_count": null,
   "metadata": {},
   "outputs": [],
   "source": []
  }
 ],
 "metadata": {
  "kernelspec": {
   "display_name": "Python 3",
   "language": "python",
   "name": "python3"
  },
  "language_info": {
   "codemirror_mode": {
    "name": "ipython",
    "version": 3
   },
   "file_extension": ".py",
   "mimetype": "text/x-python",
   "name": "python",
   "nbconvert_exporter": "python",
   "pygments_lexer": "ipython3",
   "version": "3.10.11"
  }
 },
 "nbformat": 4,
 "nbformat_minor": 2
}
